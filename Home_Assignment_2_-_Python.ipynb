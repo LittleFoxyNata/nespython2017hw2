{
 "cells": [
  {
   "cell_type": "code",
   "execution_count": 176,
   "metadata": {
    "collapsed": true
   },
   "outputs": [],
   "source": [
    "import urllib.request as ulr\n",
    "from bs4 import BeautifulSoup\n",
    "import pandas as pd\n",
    "import numpy as np"
   ]
  },
  {
   "cell_type": "markdown",
   "metadata": {},
   "source": [
    "# Задача 1"
   ]
  },
  {
   "cell_type": "code",
   "execution_count": 19,
   "metadata": {
    "collapsed": true
   },
   "outputs": [],
   "source": [
    "def sumThreeFive(n):\n",
    "    output = 0\n",
    "    for x in range(n):\n",
    "        if x//5==x/5 or x//3 == x/3:\n",
    "            output = output + x\n",
    "    return output"
   ]
  },
  {
   "cell_type": "markdown",
   "metadata": {},
   "source": [
    "Результат для 10000"
   ]
  },
  {
   "cell_type": "code",
   "execution_count": 24,
   "metadata": {
    "collapsed": false
   },
   "outputs": [
    {
     "data": {
      "text/plain": [
       "23331668"
      ]
     },
     "execution_count": 24,
     "metadata": {},
     "output_type": "execute_result"
    }
   ],
   "source": [
    "sumThreeFive(10000)"
   ]
  },
  {
   "cell_type": "markdown",
   "metadata": {},
   "source": [
    "# Задача 2"
   ]
  },
  {
   "cell_type": "code",
   "execution_count": 27,
   "metadata": {
    "collapsed": false
   },
   "outputs": [],
   "source": [
    "def Fibonacci(n):\n",
    "    if n == 0: \n",
    "        return 0\n",
    "    elif n == 1:\n",
    "        return 1\n",
    "    else: \n",
    "        return Fibonacci(n-1)+Fibonacci(n-2)"
   ]
  },
  {
   "cell_type": "code",
   "execution_count": 30,
   "metadata": {
    "collapsed": false
   },
   "outputs": [
    {
     "data": {
      "text/plain": [
       "55"
      ]
     },
     "execution_count": 30,
     "metadata": {},
     "output_type": "execute_result"
    }
   ],
   "source": [
    "Fibonacci(10)"
   ]
  },
  {
   "cell_type": "code",
   "execution_count": 141,
   "metadata": {
    "collapsed": false
   },
   "outputs": [
    {
     "data": {
      "text/plain": [
       "280571172992510140037611932413038677189525"
      ]
     },
     "execution_count": 141,
     "metadata": {},
     "output_type": "execute_result"
    }
   ],
   "source": [
    "Fibonacci(200)"
   ]
  },
  {
   "cell_type": "markdown",
   "metadata": {},
   "source": [
    "# Задача 3"
   ]
  },
  {
   "cell_type": "code",
   "execution_count": 77,
   "metadata": {
    "collapsed": false
   },
   "outputs": [],
   "source": [
    "dictionary = pd.read_csv('Users/Nataly/Downloads/words-list-russian.txt',header = None)\n",
    "dictionary.columns = ['words']"
   ]
  },
  {
   "cell_type": "code",
   "execution_count": 78,
   "metadata": {
    "collapsed": false
   },
   "outputs": [
    {
     "data": {
      "text/html": [
       "<div>\n",
       "<table border=\"1\" class=\"dataframe\">\n",
       "  <thead>\n",
       "    <tr style=\"text-align: right;\">\n",
       "      <th></th>\n",
       "      <th>words</th>\n",
       "    </tr>\n",
       "  </thead>\n",
       "  <tbody>\n",
       "    <tr>\n",
       "      <th>0</th>\n",
       "      <td>абажур</td>\n",
       "    </tr>\n",
       "    <tr>\n",
       "      <th>1</th>\n",
       "      <td>абаз</td>\n",
       "    </tr>\n",
       "    <tr>\n",
       "      <th>2</th>\n",
       "      <td>абазин</td>\n",
       "    </tr>\n",
       "    <tr>\n",
       "      <th>3</th>\n",
       "      <td>абазинка</td>\n",
       "    </tr>\n",
       "  </tbody>\n",
       "</table>\n",
       "</div>"
      ],
      "text/plain": [
       "      words\n",
       "0    абажур\n",
       "1      абаз\n",
       "2    абазин\n",
       "3  абазинка"
      ]
     },
     "execution_count": 78,
     "metadata": {},
     "output_type": "execute_result"
    }
   ],
   "source": [
    "dictionary.head(4)"
   ]
  },
  {
   "cell_type": "code",
   "execution_count": 35,
   "metadata": {
    "collapsed": false
   },
   "outputs": [],
   "source": [
    "def convert(x):\n",
    "    q = list(x)\n",
    "    u = np.unique(q)\n",
    "    return {i:q.count(i) for i in u}"
   ]
  },
  {
   "cell_type": "code",
   "execution_count": 44,
   "metadata": {
    "collapsed": false
   },
   "outputs": [
    {
     "data": {
      "text/plain": [
       "{'е': 1, 'с': 1, 'т': 2}"
      ]
     },
     "execution_count": 44,
     "metadata": {},
     "output_type": "execute_result"
    }
   ],
   "source": [
    "convert('тест')"
   ]
  },
  {
   "cell_type": "code",
   "execution_count": 79,
   "metadata": {
    "collapsed": false
   },
   "outputs": [],
   "source": [
    "dictionary['coded'] = dictionary['words'].apply(lambda x: convert(x))"
   ]
  },
  {
   "cell_type": "code",
   "execution_count": 80,
   "metadata": {
    "collapsed": false
   },
   "outputs": [
    {
     "data": {
      "text/html": [
       "<div>\n",
       "<table border=\"1\" class=\"dataframe\">\n",
       "  <thead>\n",
       "    <tr style=\"text-align: right;\">\n",
       "      <th></th>\n",
       "      <th>words</th>\n",
       "      <th>coded</th>\n",
       "    </tr>\n",
       "  </thead>\n",
       "  <tbody>\n",
       "    <tr>\n",
       "      <th>34005</th>\n",
       "      <td>ящурка</td>\n",
       "      <td>{'к': 1, 'я': 1, 'р': 1, 'а': 1, 'у': 1, 'щ': 1}</td>\n",
       "    </tr>\n",
       "    <tr>\n",
       "      <th>34006</th>\n",
       "      <td>ёкание</td>\n",
       "      <td>{'ё': 1, 'и': 1, 'н': 1, 'е': 1, 'а': 1, 'к': 1}</td>\n",
       "    </tr>\n",
       "    <tr>\n",
       "      <th>34007</th>\n",
       "      <td>ёлка</td>\n",
       "      <td>{'л': 1, 'ё': 1, 'а': 1, 'к': 1}</td>\n",
       "    </tr>\n",
       "    <tr>\n",
       "      <th>34008</th>\n",
       "      <td>ёмкость</td>\n",
       "      <td>{'ё': 1, 'ь': 1, 'к': 1, 'м': 1, 'т': 1, 'о': ...</td>\n",
       "    </tr>\n",
       "    <tr>\n",
       "      <th>34009</th>\n",
       "      <td>ёрник</td>\n",
       "      <td>{'ё': 1, 'и': 1, 'н': 1, 'к': 1, 'р': 1}</td>\n",
       "    </tr>\n",
       "  </tbody>\n",
       "</table>\n",
       "</div>"
      ],
      "text/plain": [
       "         words                                              coded\n",
       "34005   ящурка   {'к': 1, 'я': 1, 'р': 1, 'а': 1, 'у': 1, 'щ': 1}\n",
       "34006   ёкание   {'ё': 1, 'и': 1, 'н': 1, 'е': 1, 'а': 1, 'к': 1}\n",
       "34007     ёлка                   {'л': 1, 'ё': 1, 'а': 1, 'к': 1}\n",
       "34008  ёмкость  {'ё': 1, 'ь': 1, 'к': 1, 'м': 1, 'т': 1, 'о': ...\n",
       "34009    ёрник           {'ё': 1, 'и': 1, 'н': 1, 'к': 1, 'р': 1}"
      ]
     },
     "execution_count": 80,
     "metadata": {},
     "output_type": "execute_result"
    }
   ],
   "source": [
    "dictionary.tail()"
   ]
  },
  {
   "cell_type": "code",
   "execution_count": 111,
   "metadata": {
    "collapsed": false
   },
   "outputs": [],
   "source": [
    "words_with_anagram=[]\n",
    "for i in range(len(dictionary)):\n",
    "    words_with_anagram.append(sum((dictionary['coded'] == dictionary['coded'][i])*1))"
   ]
  },
  {
   "cell_type": "code",
   "execution_count": 120,
   "metadata": {
    "collapsed": false
   },
   "outputs": [],
   "source": [
    "dictionary['# of anagrams'] = pd.Series(words_with_anagram)"
   ]
  },
  {
   "cell_type": "code",
   "execution_count": 122,
   "metadata": {
    "collapsed": false
   },
   "outputs": [],
   "source": [
    "df_ana = dictionary[dictionary['# of anagrams']>=4]\n",
    "df_ana.reset_index(inplace = True, drop = True)"
   ]
  },
  {
   "cell_type": "code",
   "execution_count": 130,
   "metadata": {
    "collapsed": false
   },
   "outputs": [],
   "source": [
    "end_list=[]\n",
    "for i in range(len(df_ana)):\n",
    "    j_list = []\n",
    "    for j in range(len(df_ana)):\n",
    "        if set(df_ana['coded'][i].items())==set(df_ana['coded'][i].items())&set(df_ana['coded'][j].items()):\n",
    "            j_list.append(df_ana['words'][j])\n",
    "    end_list.append(j_list)"
   ]
  },
  {
   "cell_type": "code",
   "execution_count": 133,
   "metadata": {
    "collapsed": false
   },
   "outputs": [],
   "source": [
    "anagram_list = pd.Series(end_list)"
   ]
  },
  {
   "cell_type": "code",
   "execution_count": 138,
   "metadata": {
    "collapsed": false
   },
   "outputs": [],
   "source": [
    "anagram_list = anagram_list.apply(lambda x: ','.join(x))"
   ]
  },
  {
   "cell_type": "code",
   "execution_count": 140,
   "metadata": {
    "collapsed": false
   },
   "outputs": [
    {
     "data": {
      "text/plain": [
       "0                 аборт,обрат,табор,торба\n",
       "1     автор,втора,отвар,рвота,тавро,товар\n",
       "2                     арак,арка,кара,рака\n",
       "5                 калан,канал,ланка,накал\n",
       "8                     корт,крот,торк,трок\n",
       "16                    рост,сорт,торс,трос\n",
       "17                секта,сетка,стека,тесак\n",
       "dtype: object"
      ]
     },
     "execution_count": 140,
     "metadata": {},
     "output_type": "execute_result"
    }
   ],
   "source": [
    "#Наши анаграммы\n",
    "anagram_list.drop_duplicates()"
   ]
  },
  {
   "cell_type": "markdown",
   "metadata": {},
   "source": [
    "# Задача 4"
   ]
  },
  {
   "cell_type": "code",
   "execution_count": 144,
   "metadata": {
    "collapsed": false
   },
   "outputs": [],
   "source": [
    "#Loop: finding new words\n",
    "parent_word = convert('лекарство')\n",
    "new_words=[]\n",
    "\n",
    "for i in range(len(dictionary)):\n",
    "    x = dictionary['coded'][i]\n",
    "    if len(set(x.items()) & set(parent_word.items())) == len(x):\n",
    "        new_words.append(dictionary['words'][i])\n",
    "new_words = pd.Series(new_words)"
   ]
  },
  {
   "cell_type": "code",
   "execution_count": 145,
   "metadata": {
    "collapsed": false
   },
   "outputs": [
    {
     "data": {
      "text/plain": [
       "0          автол\n",
       "1          автор\n",
       "2            акр\n",
       "3             ар\n",
       "4          арест\n",
       "5            арк\n",
       "6          аскер\n",
       "7           ваер\n",
       "8          валет\n",
       "9            вар\n",
       "10           век\n",
       "11          веко\n",
       "12        вектор\n",
       "13          вера\n",
       "14          верк\n",
       "15       верстак\n",
       "16           вес\n",
       "17         весло\n",
       "18          вест\n",
       "19         ветка\n",
       "20         ветла\n",
       "21          влас\n",
       "22         вокал\n",
       "23           вол\n",
       "24           вор\n",
       "25          ворс\n",
       "26          воск\n",
       "27         втора\n",
       "28            ер\n",
       "29           кал\n",
       "         ...    \n",
       "117         сорт\n",
       "118         срок\n",
       "119       старое\n",
       "120      створка\n",
       "121         стек\n",
       "122        стека\n",
       "123       стекло\n",
       "124    стекловар\n",
       "125        стела\n",
       "126         сток\n",
       "127       стокер\n",
       "128       стрела\n",
       "129      стрелок\n",
       "130         тавр\n",
       "131        тавро\n",
       "132          тал\n",
       "133        талес\n",
       "134         тело\n",
       "135        тесак\n",
       "136        тесло\n",
       "137        товар\n",
       "138          тол\n",
       "139         торк\n",
       "140         торс\n",
       "141         трак\n",
       "142         трал\n",
       "143         трек\n",
       "144        треск\n",
       "145         трок\n",
       "146         трос\n",
       "dtype: object"
      ]
     },
     "execution_count": 145,
     "metadata": {},
     "output_type": "execute_result"
    }
   ],
   "source": [
    "new_words"
   ]
  },
  {
   "cell_type": "code",
   "execution_count": 146,
   "metadata": {
    "collapsed": false
   },
   "outputs": [
    {
     "data": {
      "text/plain": [
       "147"
      ]
     },
     "execution_count": 146,
     "metadata": {},
     "output_type": "execute_result"
    }
   ],
   "source": [
    "len(new_words)"
   ]
  },
  {
   "cell_type": "markdown",
   "metadata": {},
   "source": [
    "# Задача 5"
   ]
  },
  {
   "cell_type": "code",
   "execution_count": 147,
   "metadata": {
    "collapsed": true
   },
   "outputs": [],
   "source": [
    "duplicated_letters = dictionary['words'].apply(lambda x: sum((pd.Series(list(x)).duplicated())*1))\n",
    "dictionary['Duplicated letters'] = duplicated_letters"
   ]
  },
  {
   "cell_type": "code",
   "execution_count": 148,
   "metadata": {
    "collapsed": true
   },
   "outputs": [],
   "source": [
    "words_game = dictionary[dictionary['Duplicated letters']==0]['words']\n",
    "words_game = words_game[words_game.str.len()==5]"
   ]
  },
  {
   "cell_type": "code",
   "execution_count": 163,
   "metadata": {
    "collapsed": false
   },
   "outputs": [
    {
     "name": "stdout",
     "output_type": "stream",
     "text": [
      "Введите слово из 5 неповторяющихся букв:птица\n",
      "0 букв угадано\n",
      "Введите слово из 5 неповторяющихся букв:болид\n",
      "2 букв угадано\n",
      "Введите слово из 5 неповторяющихся букв:букля\n",
      "Вы отгадали слово за 3 попыток!\n"
     ]
    }
   ],
   "source": [
    "counter = 0\n",
    "while True:\n",
    "    counter += 1\n",
    "    mystiq = words_game.iloc[np.random.randint(len(words_game))]\n",
    "    entered_word = input('Введите слово из 5 неповторяющихся букв:')\n",
    "    if len(entered_word) > 5 or len(entered_word) <5 or sum(pd.Series(list(entered_word)).duplicated()*1) != 0\\\n",
    "    or sum(words_game.isin([entered_word])*1) == 0:\n",
    "        print('Неподходящее слово, введите другое')\n",
    "    else:\n",
    "        if entered_word == mystiq:\n",
    "            print('Вы отгадали слово за %s попыток!' %counter)\n",
    "            break\n",
    "        else:\n",
    "            print('%s букв угадано' %len(set(list(entered_word))&set(list(mystiq))))"
   ]
  },
  {
   "cell_type": "markdown",
   "metadata": {},
   "source": [
    "# Задача 6"
   ]
  },
  {
   "cell_type": "code",
   "execution_count": 171,
   "metadata": {
    "collapsed": false
   },
   "outputs": [
    {
     "name": "stdout",
     "output_type": "stream",
     "text": [
      "Введите слово из 5 неповторяющихся букв: болид\n",
      "Я думаю это слово копна\n",
      "Сколько букв компьютер правильно угадал?1\n",
      "Я думаю это слово грыжа\n",
      "Сколько букв компьютер правильно угадал?0\n",
      "Я думаю это слово купон\n",
      "Сколько букв компьютер правильно угадал?1\n",
      "Я думаю это слово сейид\n",
      "Сколько букв компьютер правильно угадал?1\n",
      "Я думаю это слово чувяк\n",
      "Сколько букв компьютер правильно угадал?0\n",
      "Я думаю это слово нефть\n",
      "Сколько букв компьютер правильно угадал?0\n",
      "Я думаю это слово олимп\n",
      "Сколько букв компьютер правильно угадал?1\n",
      "Я думаю это слово излом\n",
      "Сколько букв компьютер правильно угадал?1\n",
      "Я думаю это слово блюдо\n",
      "Сколько букв компьютер правильно угадал?1\n",
      "Я думаю это слово болид\n",
      "Сколько букв компьютер правильно угадал?5\n",
      "У меня получилось за 10 попыток!\n"
     ]
    }
   ],
   "source": [
    "entered_word = input('Введите слово из 5 неповторяющихся букв: ')\n",
    "counter = 0\n",
    "words_game2 = words_game.copy()\n",
    "if sum(words_game.isin([entered_word])*1)==1:\n",
    "    while True:\n",
    "        counter += 1\n",
    "        mystiq = words_game2.iloc[np.random.randint(len(words_game2))]\n",
    "        print('Я думаю это слово',mystiq)\n",
    "        letters = int(input('Сколько букв компьютер правильно угадал?'))\n",
    "        if letters == 0:\n",
    "            words_game2 = words_game2[words_game2.apply(lambda x: len(set(list(x))&set(list(mystiq))))==0]\n",
    "        elif letters > 0 and letters < 5:\n",
    "            words_game2.drop(words_game2.index[words_game2.isin([mystiq])][0],0,inplace = True)\n",
    "        elif letters == 5:\n",
    "            words_game2 = words_game2[words_game2.apply(lambda x: len(set(list(x))&set(list(mystiq))))==5]\n",
    "        if entered_word == mystiq:\n",
    "            break\n",
    "    print('У меня получилось за %s попыток!' %counter)\n",
    "else:\n",
    "    print('У меня в словаре нет такого слова')"
   ]
  },
  {
   "cell_type": "markdown",
   "metadata": {},
   "source": [
    "# Задача 7"
   ]
  },
  {
   "cell_type": "code",
   "execution_count": 172,
   "metadata": {
    "collapsed": true
   },
   "outputs": [],
   "source": [
    "#Problem 7\n",
    "site = 'http://www.belstat.gov.by/ofitsialnaya-statistika/makroekonomika-i-okruzhayushchaya-sreda/natsionalnye-scheta/godovye-dannye_11/proizvodstvo-valovogo-vnutrennego-produkta/'"
   ]
  },
  {
   "cell_type": "code",
   "execution_count": 173,
   "metadata": {
    "collapsed": false
   },
   "outputs": [
    {
     "data": {
      "text/plain": [
       "'http://www.belstat.gov.by/ofitsialnaya-statistika/makroekonomika-i-okruzhayushchaya-sreda/natsionalnye-scheta/godovye-dannye_11/proizvodstvo-valovogo-vnutrennego-produkta/'"
      ]
     },
     "execution_count": 173,
     "metadata": {},
     "output_type": "execute_result"
    }
   ],
   "source": [
    "site"
   ]
  },
  {
   "cell_type": "code",
   "execution_count": 179,
   "metadata": {
    "collapsed": false
   },
   "outputs": [],
   "source": [
    "response = ulr.urlopen(site)\n",
    "soup = response.read()\n",
    "table = pd.read_html(soup)"
   ]
  },
  {
   "cell_type": "code",
   "execution_count": 183,
   "metadata": {
    "collapsed": false
   },
   "outputs": [
    {
     "data": {
      "text/html": [
       "<div>\n",
       "<table border=\"1\" class=\"dataframe\">\n",
       "  <thead>\n",
       "    <tr style=\"text-align: right;\">\n",
       "      <th></th>\n",
       "      <th>0</th>\n",
       "      <th>1</th>\n",
       "      <th>2</th>\n",
       "      <th>3</th>\n",
       "      <th>4</th>\n",
       "      <th>5</th>\n",
       "      <th>6</th>\n",
       "      <th>7</th>\n",
       "      <th>8</th>\n",
       "    </tr>\n",
       "  </thead>\n",
       "  <tbody>\n",
       "    <tr>\n",
       "      <th>0</th>\n",
       "      <td>NaN</td>\n",
       "      <td>2009</td>\n",
       "      <td>2010</td>\n",
       "      <td>2011</td>\n",
       "      <td>2012</td>\n",
       "      <td>2013</td>\n",
       "      <td>2014</td>\n",
       "      <td>2015</td>\n",
       "      <td>2016</td>\n",
       "    </tr>\n",
       "    <tr>\n",
       "      <th>1</th>\n",
       "      <td>Валовой внутренний продукт</td>\n",
       "      <td>NaN</td>\n",
       "      <td>NaN</td>\n",
       "      <td>NaN</td>\n",
       "      <td>NaN</td>\n",
       "      <td>NaN</td>\n",
       "      <td>NaN</td>\n",
       "      <td>NaN</td>\n",
       "      <td>NaN</td>\n",
       "    </tr>\n",
       "    <tr>\n",
       "      <th>2</th>\n",
       "      <td>в текущих ценах,  млрд. руб.  (2016 год – млн....</td>\n",
       "      <td>142 091</td>\n",
       "      <td>170 466</td>\n",
       "      <td>307 245</td>\n",
       "      <td>547 617</td>\n",
       "      <td>670 688</td>\n",
       "      <td>805 793</td>\n",
       "      <td>899 098</td>\n",
       "      <td>94 949</td>\n",
       "    </tr>\n",
       "    <tr>\n",
       "      <th>3</th>\n",
       "      <td>в сопоставимых ценах,  в процентах к предыдуще...</td>\n",
       "      <td>x</td>\n",
       "      <td>1077</td>\n",
       "      <td>1055</td>\n",
       "      <td>1017</td>\n",
       "      <td>1010</td>\n",
       "      <td>1017</td>\n",
       "      <td>962</td>\n",
       "      <td>975</td>\n",
       "    </tr>\n",
       "    <tr>\n",
       "      <th>4</th>\n",
       "      <td>Валовой внутренний продукт на душу населения, ...</td>\n",
       "      <td>14 946</td>\n",
       "      <td>17 962</td>\n",
       "      <td>32 433</td>\n",
       "      <td>57 860</td>\n",
       "      <td>70 852</td>\n",
       "      <td>85 048</td>\n",
       "      <td>94 745</td>\n",
       "      <td>9 993</td>\n",
       "    </tr>\n",
       "  </tbody>\n",
       "</table>\n",
       "</div>"
      ],
      "text/plain": [
       "                                                   0        1        2  \\\n",
       "0                                                NaN     2009     2010   \n",
       "1                         Валовой внутренний продукт      NaN      NaN   \n",
       "2  в текущих ценах,  млрд. руб.  (2016 год – млн....  142 091  170 466   \n",
       "3  в сопоставимых ценах,  в процентах к предыдуще...        x     1077   \n",
       "4  Валовой внутренний продукт на душу населения, ...   14 946   17 962   \n",
       "\n",
       "         3        4        5        6        7       8  \n",
       "0     2011     2012     2013     2014     2015    2016  \n",
       "1      NaN      NaN      NaN      NaN      NaN     NaN  \n",
       "2  307 245  547 617  670 688  805 793  899 098  94 949  \n",
       "3     1055     1017     1010     1017      962     975  \n",
       "4   32 433   57 860   70 852   85 048   94 745   9 993  "
      ]
     },
     "execution_count": 183,
     "metadata": {},
     "output_type": "execute_result"
    }
   ],
   "source": [
    "df = table[0]\n",
    "df"
   ]
  },
  {
   "cell_type": "code",
   "execution_count": 189,
   "metadata": {
    "collapsed": false
   },
   "outputs": [],
   "source": [
    "df.ix[2] = df.ix[2].apply(lambda x: x.replace(u'\\xa0',''))"
   ]
  },
  {
   "cell_type": "code",
   "execution_count": 191,
   "metadata": {
    "collapsed": false
   },
   "outputs": [],
   "source": [
    "df.ix[2] = df.ix[2].apply(lambda x: x.replace(u' ',''))"
   ]
  },
  {
   "cell_type": "code",
   "execution_count": 195,
   "metadata": {
    "collapsed": false
   },
   "outputs": [
    {
     "data": {
      "text/html": [
       "<div>\n",
       "<table border=\"1\" class=\"dataframe\">\n",
       "  <thead>\n",
       "    <tr style=\"text-align: right;\">\n",
       "      <th></th>\n",
       "      <th>0</th>\n",
       "      <th>1</th>\n",
       "      <th>2</th>\n",
       "      <th>3</th>\n",
       "      <th>4</th>\n",
       "      <th>5</th>\n",
       "      <th>6</th>\n",
       "      <th>7</th>\n",
       "      <th>8</th>\n",
       "    </tr>\n",
       "  </thead>\n",
       "  <tbody>\n",
       "    <tr>\n",
       "      <th>0</th>\n",
       "      <td>NaN</td>\n",
       "      <td>2009</td>\n",
       "      <td>2010</td>\n",
       "      <td>2011</td>\n",
       "      <td>2012</td>\n",
       "      <td>2013</td>\n",
       "      <td>2014</td>\n",
       "      <td>2015</td>\n",
       "      <td>2016</td>\n",
       "    </tr>\n",
       "    <tr>\n",
       "      <th>1</th>\n",
       "      <td>Валовой внутренний продукт</td>\n",
       "      <td>NaN</td>\n",
       "      <td>NaN</td>\n",
       "      <td>NaN</td>\n",
       "      <td>NaN</td>\n",
       "      <td>NaN</td>\n",
       "      <td>NaN</td>\n",
       "      <td>NaN</td>\n",
       "      <td>NaN</td>\n",
       "    </tr>\n",
       "    <tr>\n",
       "      <th>2</th>\n",
       "      <td>втекущихценах,млрд.руб.(2016год–млн.руб.)</td>\n",
       "      <td>142091</td>\n",
       "      <td>170466</td>\n",
       "      <td>307245</td>\n",
       "      <td>547617</td>\n",
       "      <td>670688</td>\n",
       "      <td>805793</td>\n",
       "      <td>899098</td>\n",
       "      <td>94949</td>\n",
       "    </tr>\n",
       "    <tr>\n",
       "      <th>3</th>\n",
       "      <td>в сопоставимых ценах,  в процентах к предыдуще...</td>\n",
       "      <td>x</td>\n",
       "      <td>1077</td>\n",
       "      <td>1055</td>\n",
       "      <td>1017</td>\n",
       "      <td>1010</td>\n",
       "      <td>1017</td>\n",
       "      <td>962</td>\n",
       "      <td>975</td>\n",
       "    </tr>\n",
       "    <tr>\n",
       "      <th>4</th>\n",
       "      <td>Валовой внутренний продукт на душу населения, ...</td>\n",
       "      <td>14 946</td>\n",
       "      <td>17 962</td>\n",
       "      <td>32 433</td>\n",
       "      <td>57 860</td>\n",
       "      <td>70 852</td>\n",
       "      <td>85 048</td>\n",
       "      <td>94 745</td>\n",
       "      <td>9 993</td>\n",
       "    </tr>\n",
       "  </tbody>\n",
       "</table>\n",
       "</div>"
      ],
      "text/plain": [
       "                                                   0       1       2       3  \\\n",
       "0                                                NaN    2009    2010    2011   \n",
       "1                         Валовой внутренний продукт     NaN     NaN     NaN   \n",
       "2          втекущихценах,млрд.руб.(2016год–млн.руб.)  142091  170466  307245   \n",
       "3  в сопоставимых ценах,  в процентах к предыдуще...       x    1077    1055   \n",
       "4  Валовой внутренний продукт на душу населения, ...  14 946  17 962  32 433   \n",
       "\n",
       "        4       5       6       7      8  \n",
       "0    2012    2013    2014    2015   2016  \n",
       "1     NaN     NaN     NaN     NaN    NaN  \n",
       "2  547617  670688  805793  899098  94949  \n",
       "3    1017    1010    1017     962    975  \n",
       "4  57 860  70 852  85 048  94 745  9 993  "
      ]
     },
     "execution_count": 195,
     "metadata": {},
     "output_type": "execute_result"
    }
   ],
   "source": [
    "df"
   ]
  },
  {
   "cell_type": "code",
   "execution_count": 196,
   "metadata": {
    "collapsed": false
   },
   "outputs": [
    {
     "name": "stderr",
     "output_type": "stream",
     "text": [
      "/Users/Vadim/anaconda/lib/python3.5/site-packages/ipykernel/__main__.py:1: FutureWarning: convert_objects is deprecated.  Use the data-type specific converters pd.to_datetime, pd.to_timedelta and pd.to_numeric.\n",
      "  if __name__ == '__main__':\n"
     ]
    }
   ],
   "source": [
    "df = df.convert_objects(convert_numeric=True)"
   ]
  },
  {
   "cell_type": "code",
   "execution_count": 219,
   "metadata": {
    "collapsed": false
   },
   "outputs": [
    {
     "data": {
      "text/plain": [
       "[nan, 107.7, 105.5, 101.7, 101.0, 101.7, 96.200000000000003, 97.5]"
      ]
     },
     "execution_count": 219,
     "metadata": {},
     "output_type": "execute_result"
    }
   ],
   "source": [
    "new_row = list(df[df.columns[1:]].ix[3]/10)\n",
    "new_row"
   ]
  },
  {
   "cell_type": "code",
   "execution_count": 221,
   "metadata": {
    "collapsed": false
   },
   "outputs": [],
   "source": [
    "new_row.insert(0,df.ix[3][0])"
   ]
  },
  {
   "cell_type": "code",
   "execution_count": 223,
   "metadata": {
    "collapsed": false
   },
   "outputs": [],
   "source": [
    "df.ix[3] = new_row"
   ]
  },
  {
   "cell_type": "code",
   "execution_count": 224,
   "metadata": {
    "collapsed": false
   },
   "outputs": [
    {
     "data": {
      "text/html": [
       "<div>\n",
       "<table border=\"1\" class=\"dataframe\">\n",
       "  <thead>\n",
       "    <tr style=\"text-align: right;\">\n",
       "      <th></th>\n",
       "      <th>0</th>\n",
       "      <th>1</th>\n",
       "      <th>2</th>\n",
       "      <th>3</th>\n",
       "      <th>4</th>\n",
       "      <th>5</th>\n",
       "      <th>6</th>\n",
       "      <th>7</th>\n",
       "      <th>8</th>\n",
       "    </tr>\n",
       "  </thead>\n",
       "  <tbody>\n",
       "    <tr>\n",
       "      <th>0</th>\n",
       "      <td>NaN</td>\n",
       "      <td>2009.0</td>\n",
       "      <td>2010.0</td>\n",
       "      <td>2011.0</td>\n",
       "      <td>2012.0</td>\n",
       "      <td>2013.0</td>\n",
       "      <td>2014.0</td>\n",
       "      <td>2015.0</td>\n",
       "      <td>2016.0</td>\n",
       "    </tr>\n",
       "    <tr>\n",
       "      <th>1</th>\n",
       "      <td>Валовой внутренний продукт</td>\n",
       "      <td>NaN</td>\n",
       "      <td>NaN</td>\n",
       "      <td>NaN</td>\n",
       "      <td>NaN</td>\n",
       "      <td>NaN</td>\n",
       "      <td>NaN</td>\n",
       "      <td>NaN</td>\n",
       "      <td>NaN</td>\n",
       "    </tr>\n",
       "    <tr>\n",
       "      <th>2</th>\n",
       "      <td>втекущихценах,млрд.руб.(2016год–млн.руб.)</td>\n",
       "      <td>142091.0</td>\n",
       "      <td>170466.0</td>\n",
       "      <td>307245.0</td>\n",
       "      <td>547617.0</td>\n",
       "      <td>670688.0</td>\n",
       "      <td>805793.0</td>\n",
       "      <td>899098.0</td>\n",
       "      <td>94949.0</td>\n",
       "    </tr>\n",
       "    <tr>\n",
       "      <th>3</th>\n",
       "      <td>в сопоставимых ценах,  в процентах к предыдуще...</td>\n",
       "      <td>NaN</td>\n",
       "      <td>107.7</td>\n",
       "      <td>105.5</td>\n",
       "      <td>101.7</td>\n",
       "      <td>101.0</td>\n",
       "      <td>101.7</td>\n",
       "      <td>96.2</td>\n",
       "      <td>97.5</td>\n",
       "    </tr>\n",
       "    <tr>\n",
       "      <th>4</th>\n",
       "      <td>Валовой внутренний продукт на душу населения, ...</td>\n",
       "      <td>NaN</td>\n",
       "      <td>NaN</td>\n",
       "      <td>NaN</td>\n",
       "      <td>NaN</td>\n",
       "      <td>NaN</td>\n",
       "      <td>NaN</td>\n",
       "      <td>NaN</td>\n",
       "      <td>NaN</td>\n",
       "    </tr>\n",
       "  </tbody>\n",
       "</table>\n",
       "</div>"
      ],
      "text/plain": [
       "                                                   0         1         2  \\\n",
       "0                                                NaN    2009.0    2010.0   \n",
       "1                         Валовой внутренний продукт       NaN       NaN   \n",
       "2          втекущихценах,млрд.руб.(2016год–млн.руб.)  142091.0  170466.0   \n",
       "3  в сопоставимых ценах,  в процентах к предыдуще...       NaN     107.7   \n",
       "4  Валовой внутренний продукт на душу населения, ...       NaN       NaN   \n",
       "\n",
       "          3         4         5         6         7        8  \n",
       "0    2011.0    2012.0    2013.0    2014.0    2015.0   2016.0  \n",
       "1       NaN       NaN       NaN       NaN       NaN      NaN  \n",
       "2  307245.0  547617.0  670688.0  805793.0  899098.0  94949.0  \n",
       "3     105.5     101.7     101.0     101.7      96.2     97.5  \n",
       "4       NaN       NaN       NaN       NaN       NaN      NaN  "
      ]
     },
     "execution_count": 224,
     "metadata": {},
     "output_type": "execute_result"
    }
   ],
   "source": [
    "df"
   ]
  }
 ],
 "metadata": {
  "kernelspec": {
   "display_name": "Python [conda root]",
   "language": "python",
   "name": "conda-root-py"
  },
  "language_info": {
   "codemirror_mode": {
    "name": "ipython",
    "version": 3
   },
   "file_extension": ".py",
   "mimetype": "text/x-python",
   "name": "python",
   "nbconvert_exporter": "python",
   "pygments_lexer": "ipython3",
   "version": "3.5.2"
  }
 },
 "nbformat": 4,
 "nbformat_minor": 1
}
